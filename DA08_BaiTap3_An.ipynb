{
 "cells": [
  {
   "cell_type": "markdown",
   "metadata": {},
   "source": [
    "# BÀI TẬP PYTHON CƠ BẢN"
   ]
  },
  {
   "cell_type": "markdown",
   "metadata": {},
   "source": [
    "## Đề Bài"
   ]
  },
  {
   "cell_type": "markdown",
   "metadata": {},
   "source": [
    "Đọc file “supermarket_sales_vn.csv” và tính:\n",
    "1. Tần số & tần suất khách hàng mua ở TP HCM, Hà Nội, Đà Nẵng.\n",
    "2. Tần số & tần suất khách hàng Nam, Nữ.\n",
    "3. Mean, median, mode của Total và Rating."
   ]
  },
  {
   "cell_type": "markdown",
   "metadata": {},
   "source": [
    "## Script"
   ]
  },
  {
   "cell_type": "markdown",
   "metadata": {},
   "source": [
    "### Using"
   ]
  },
  {
   "cell_type": "code",
   "execution_count": 1,
   "metadata": {},
   "outputs": [],
   "source": [
    "import collections\n",
    "import csv\n",
    "from datetime import datetime"
   ]
  },
  {
   "cell_type": "markdown",
   "metadata": {},
   "source": [
    "### Utilities"
   ]
  },
  {
   "cell_type": "code",
   "execution_count": 2,
   "metadata": {},
   "outputs": [],
   "source": [
    "# Calculates the frequency distribution as a percentage based on given frequency and sample size\n",
    "def frequency_distribution(requency=0, size=100):\n",
    "    try:\n",
    "        return requency * 100 / size\n",
    "    except:\n",
    "        return 0"
   ]
  },
  {
   "cell_type": "markdown",
   "metadata": {},
   "source": [
    "### Fields"
   ]
  },
  {
   "cell_type": "code",
   "execution_count": 3,
   "metadata": {},
   "outputs": [],
   "source": [
    "INVOICE_ID = 0\n",
    "CITY = 1\n",
    "CUSTOMER_TYPE = 2\n",
    "GENDER = 3\n",
    "PRODUCT_LINE = 4\n",
    "UNIT_PRICE = 5\n",
    "QUANTITY = 6\n",
    "TAX = 7\n",
    "TOTAL = 8\n",
    "DATE = 9\n",
    "TIME = 10\n",
    "PAYMENT = 11\n",
    "COGS = 12\n",
    "RATING = 13"
   ]
  },
  {
   "cell_type": "code",
   "execution_count": 4,
   "metadata": {},
   "outputs": [],
   "source": [
    "FOCUS_CITIES = ['TP HCM', 'Hà Nội', 'Đà Nẵng']\n",
    "FOCUS_GENDERS = ['Nam', 'Nữ']"
   ]
  },
  {
   "cell_type": "code",
   "execution_count": 5,
   "metadata": {},
   "outputs": [],
   "source": [
    "class Invoice:\n",
    "    def __init__(self, invoiceId, city, gender, productLine, unitPrice, quantity, tax, total, date, time, payment, cogs, rating):\n",
    "        self.invoiceId = invoiceId\n",
    "        self.city = city\n",
    "        self.gender = gender\n",
    "        self.productLine = productLine\n",
    "        self.unitPrice = unitPrice\n",
    "        self.quantity = quantity\n",
    "        self.tax = tax\n",
    "        self.total = total\n",
    "        self.date = date\n",
    "        self.time = time\n",
    "        self.payment = payment\n",
    "        self.cogs = cogs\n",
    "        self.rating = rating"
   ]
  },
  {
   "cell_type": "markdown",
   "metadata": {},
   "source": [
    "### Common"
   ]
  },
  {
   "cell_type": "code",
   "execution_count": 6,
   "metadata": {},
   "outputs": [],
   "source": [
    "# Sale records\n",
    "def sales_record():\n",
    "    invoices = []\n",
    "    with open('supermarket_sales_vn.csv', 'r', encoding='utf-8') as f:\n",
    "        data_reader = csv.reader(f)\n",
    "        next(data_reader)\n",
    "        for row in data_reader:\n",
    "            invoiceId = row[INVOICE_ID]\n",
    "            city = row[CITY]\n",
    "            gender = row[GENDER]\n",
    "            productLine = row[PRODUCT_LINE]\n",
    "            unitPrice = float(row[UNIT_PRICE])\n",
    "            quantity = int(row[QUANTITY])\n",
    "            tax = float(row[TAX])\n",
    "            total = float(row[TOTAL])\n",
    "            date = datetime.strptime(row[DATE], '%m/%d/%y').date()\n",
    "            time = datetime.strptime(row[TIME], '%H:%M').time()\n",
    "            payment = row[PAYMENT]\n",
    "            cogs = float(row[COGS])\n",
    "            rating = float(row[RATING])\n",
    "            invoices.append(Invoice(invoiceId, city, gender, productLine, unitPrice, quantity, tax, total, date, time, payment, cogs, rating))\n",
    "    return invoices"
   ]
  },
  {
   "cell_type": "code",
   "execution_count": 7,
   "metadata": {},
   "outputs": [],
   "source": [
    "# Frequency city\n",
    "frequency_city = lambda invoices=[], city='': len(list([item for item in invoices if (item.city == city)]))"
   ]
  },
  {
   "cell_type": "code",
   "execution_count": 8,
   "metadata": {},
   "outputs": [],
   "source": [
    "# Frequency gender\n",
    "frequency_gender = lambda invoices=[], gender='': len(list([item for item in invoices if (item.gender == gender)]))"
   ]
  },
  {
   "cell_type": "code",
   "execution_count": 9,
   "metadata": {},
   "outputs": [],
   "source": [
    "def main():\n",
    "    invoices = sales_record()\n",
    "    invoicesCount = len(invoices)\n",
    "    # display result cities\n",
    "    print('City')\n",
    "    for item in FOCUS_CITIES:\n",
    "        frequency = frequency_city(invoices, item)\n",
    "        print(f'''Tần số khách hàng mua ở {item} là: {frequency} lần.\n",
    "Tần suất khách hàng mua ở {item} là: {frequency_distribution(frequency, invoicesCount)}%.''')\n",
    "    # display result genders\n",
    "    print('\\nGender')\n",
    "    for item in FOCUS_GENDERS:\n",
    "        frequency = frequency_gender(invoices, item)\n",
    "        print(f'''Tần số khách hàng {item} là: {frequency} người.\n",
    "Tần suất khách hàng {item} là: {frequency_distribution(frequency, invoicesCount)}%.''')\n",
    "    # display mean, median, mode of total\n",
    "    print('\\nTotal')\n",
    "    invoicesTotal = [item.total for item in invoices]\n",
    "    print(f'''Mean = {sum(invoicesTotal) / invoicesCount}\n",
    "Median = {sorted(invoicesTotal)[invoicesCount // 2]}\n",
    "Mode = {collections.Counter(invoicesTotal).most_common(1)[0][0]}''')\n",
    "    # display mean, median, mode of rating\n",
    "    print('\\nRating')\n",
    "    invoicesRating = [item.rating for item in invoices]\n",
    "    print(f'''Mean = {sum(invoicesRating) / invoicesCount}\n",
    "Median = {sorted(invoicesRating)[invoicesCount // 2]}\n",
    "Mode = {collections.Counter(invoicesRating).most_common(1)[0][0]}''')"
   ]
  },
  {
   "cell_type": "code",
   "execution_count": 10,
   "metadata": {},
   "outputs": [
    {
     "name": "stdout",
     "output_type": "stream",
     "text": [
      "City\n",
      "Tần số khách hàng mua ở TP HCM là: 490 lần.\n",
      "Tần suất khách hàng mua ở TP HCM là: 49.0%.\n",
      "Tần số khách hàng mua ở Hà Nội là: 274 lần.\n",
      "Tần suất khách hàng mua ở Hà Nội là: 27.4%.\n",
      "Tần số khách hàng mua ở Đà Nẵng là: 236 lần.\n",
      "Tần suất khách hàng mua ở Đà Nẵng là: 23.6%.\n",
      "\n",
      "Gender\n",
      "Tần số khách hàng Nam là: 499 người.\n",
      "Tần suất khách hàng Nam là: 49.9%.\n",
      "Tần số khách hàng Nữ là: 501 người.\n",
      "Tần suất khách hàng Nữ là: 50.1%.\n",
      "\n",
      "Total\n",
      "Mean = 322.96674900000005\n",
      "Median = 254.016\n",
      "Mode = 829.08\n",
      "\n",
      "Rating\n",
      "Mean = 6.972700000000003\n",
      "Median = 7.0\n",
      "Mode = 6.0\n"
     ]
    }
   ],
   "source": [
    "main()"
   ]
  }
 ],
 "metadata": {
  "kernelspec": {
   "display_name": "Python 3 (ipykernel)",
   "language": "python",
   "name": "python3"
  },
  "language_info": {
   "codemirror_mode": {
    "name": "ipython",
    "version": 3
   },
   "file_extension": ".py",
   "mimetype": "text/x-python",
   "name": "python",
   "nbconvert_exporter": "python",
   "pygments_lexer": "ipython3",
   "version": "3.10.9"
  },
  "vscode": {
   "interpreter": {
    "hash": "bb31923fe1462919371239128cb0b2695295dfc560fc452d1a3a2e251a4b53eb"
   }
  }
 },
 "nbformat": 4,
 "nbformat_minor": 2
}
