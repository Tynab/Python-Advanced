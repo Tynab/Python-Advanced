{
 "cells": [
  {
   "cell_type": "markdown",
   "metadata": {},
   "source": [
    "# BÀI TẬP PYTHON CƠ BẢN"
   ]
  },
  {
   "cell_type": "markdown",
   "metadata": {},
   "source": [
    "## Đề Bài"
   ]
  },
  {
   "cell_type": "markdown",
   "metadata": {},
   "source": [
    "Thực hiện lại các bài tập trong bài trước và lưu kết quả vào file text."
   ]
  },
  {
   "cell_type": "markdown",
   "metadata": {},
   "source": [
    "## Script"
   ]
  },
  {
   "cell_type": "markdown",
   "metadata": {},
   "source": [
    "### Using"
   ]
  },
  {
   "cell_type": "code",
   "execution_count": 1,
   "metadata": {},
   "outputs": [],
   "source": [
    "import sys\n",
    "import random\n",
    "from enum import Enum\n",
    "from collections import defaultdict"
   ]
  },
  {
   "cell_type": "markdown",
   "metadata": {},
   "source": [
    "### Bài 1:\n",
    "Dữ liệu giá cổ phiếu: viết vòng lặp xác định nếu giá cổ phiếu lên 7% so với ngàyhôm trước thì bán, xuống 5% so với ngày hôm trước thì mua...\n",
    "```\n",
    "gia_theo_ngay = [10.1, 9.5, 10.7, 10.8, 10.6, 10.0, 10.2, 9.5]\n",
    "```"
   ]
  },
  {
   "cell_type": "code",
   "execution_count": 2,
   "metadata": {},
   "outputs": [],
   "source": [
    "GIA_THEO_NGAY = [10.1, 9.5, 10.7, 10.8, 10.6, 10.0, 10.2, 9.5]\n",
    "\n",
    "class HanhDong(Enum):\n",
    "    Mua = 1\n",
    "    Ban = 2\n",
    "    Giu = 3\n",
    "\n",
    "HANH_DONG_DICT = {\n",
    "    HanhDong.Mua: \"Mua\",\n",
    "    HanhDong.Ban: \"Bán\",\n",
    "    HanhDong.Giu: \"Giữ nguyên\"\n",
    "}\n",
    "\n",
    "# Action\n",
    "def hanh_dong(giaTruoc=0, giaSau=0):\n",
    "    diff = giaSau - giaTruoc\n",
    "    return HanhDong.Ban if diff >= giaTruoc * 7 / 100 else HanhDong.Mua if diff <= -giaTruoc * 5 / 100 else HanhDong.Giu\n",
    "\n",
    "# String exercise 1\n",
    "def str_exercise_1():\n",
    "    str = 'BÀI 1\\n'\n",
    "    for i in range(len(GIA_THEO_NGAY) - 1):\n",
    "        str += f'- Ngày {i + 2}: {HANH_DONG_DICT.get(hanh_dong(GIA_THEO_NGAY[i], GIA_THEO_NGAY[i + 1]))}\\n'\n",
    "    return str"
   ]
  },
  {
   "cell_type": "markdown",
   "metadata": {},
   "source": [
    "### Bài 2:\n",
    "Viết chương trình kiểm tra xem mỗi số trong một list có là số nguyên tố hay không (cần viết hàm kiểm tra số nguyên tố riêng và lưu ý trường hợp các số 1, 2, 3)."
   ]
  },
  {
   "cell_type": "code",
   "execution_count": 3,
   "metadata": {},
   "outputs": [],
   "source": [
    "class PositiveInt:\n",
    "    # Initialization\n",
    "    def __init__(self, num=1, isPrime=True):\n",
    "        self.num = num\n",
    "        self.isPrime = isPrime\n",
    "\n",
    "# Check if the input is a prime integer\n",
    "def is_prime(num=1):\n",
    "    for i in range(2, num):\n",
    "        if num % i == 0:\n",
    "            return False\n",
    "    return True\n",
    "\n",
    "# String exercise 2\n",
    "def str_exercise_2():\n",
    "    str = 'BÀI 2\\n'\n",
    "    n = random.randint(1, 9)\n",
    "    nums = []\n",
    "    # initialize each element in the range\n",
    "    for _ in range(n):\n",
    "        num = random.randint(1, 99)\n",
    "        nums.append(PositiveInt(num, is_prime(num)))\n",
    "    # check for prime numbers for each element in the range\n",
    "    for item in nums:\n",
    "        conclusion = item.isPrime and 'là số nguyên tố' or 'không là số nguyên tố'\n",
    "        str += f'- {item.num}: {conclusion}.\\n'\n",
    "    return str"
   ]
  },
  {
   "cell_type": "markdown",
   "metadata": {},
   "source": [
    "### Bài 3:\n",
    "Viết hàm tính tiền bảo hiểm và thuế thu nhập cá nhân cho các nhân viên:\n",
    "- Input: lương, phụ cấp\n",
    "- Output: BH, PIT"
   ]
  },
  {
   "cell_type": "code",
   "execution_count": 4,
   "metadata": {},
   "outputs": [],
   "source": [
    "L_CS = 1800000  # lương cơ sở 2023 (LCS)\n",
    "L_TTV = 4680000  # luong tối thiểu vùng 2023 (LTTV)\n",
    "\n",
    "PT_BHXH = 8  # phần trăm bảo hiểm xã hội (BHXH)\n",
    "PT_BHYT = 1.5  # phần trăm bảo hiểm y tế (BHYT)\n",
    "PT_BHTN = 1  # phần trăm bảo hiểm thất nghiệp (BHTN)\n",
    "\n",
    "HS_BH_MAX = 20  # hệ số bảo hiểm (BH) tối đa\n",
    "\n",
    "GT_TTNCN = 11000000  # giảm trừ thuế thu nhập cá nhân (TTNCN)\n",
    "\n",
    "class BacThue(Enum):\n",
    "    Bac0 = 0\n",
    "    Bac1 = 1\n",
    "    Bac2 = 2\n",
    "    Bac3 = 3\n",
    "    Bac4 = 4\n",
    "    Bac5 = 5\n",
    "    Bac6 = 6\n",
    "    Bac7 = 7\n",
    "\n",
    "class NhanVien:\n",
    "    # Initialization\n",
    "    def __init__(self, lcb=0, pc=0):\n",
    "        self.lcb = lcb\n",
    "        self.pc = pc\n",
    "\n",
    "    # Set lương thực nhận\n",
    "    def set_ltn(self, ltn=0):\n",
    "        self.ltn = ltn\n",
    "\n",
    "IDX_BT_LOW = 0  # index bậc dưới\n",
    "IDX_BT_HIGH = 1  # index bậc trên\n",
    "IDX_BT_NAME = 2  # index bậc thuế\n",
    "\n",
    "# lương từ | đến dưới | bậc thuế\n",
    "BTS = [[0, 5000000, BacThue.Bac1],\n",
    "       [5000000, 10000000, BacThue.Bac2],\n",
    "       [10000000, 18000000, BacThue.Bac3],\n",
    "       [18000000, 32000000, BacThue.Bac4],\n",
    "       [32000000, 52000000, BacThue.Bac5],\n",
    "       [52000000, 80000000, BacThue.Bac6],\n",
    "       [80000000, sys.maxsize, BacThue.Bac7]]\n",
    "\n",
    "IDX_TS = 0  # index thuế suất của từng bậc thuế\n",
    "IDX_HSG = 1  # index hệ số giảm của từng bậc thuế\n",
    "\n",
    "BT_DICTS = defaultdict(list)\n",
    "# {bậc thuế} - {thuế suất (%) | hệ số giảm}\n",
    "BT_DICTS[BacThue.Bac0] = [0, 0]\n",
    "BT_DICTS[BacThue.Bac1] = [5, 0]\n",
    "BT_DICTS[BacThue.Bac2] = [10, 250000]\n",
    "BT_DICTS[BacThue.Bac3] = [15, 750000]\n",
    "BT_DICTS[BacThue.Bac4] = [20, 1650000]\n",
    "BT_DICTS[BacThue.Bac5] = [25, 3250000]\n",
    "BT_DICTS[BacThue.Bac6] = [30, 5850000]\n",
    "BT_DICTS[BacThue.Bac7] = [35, 9850000]\n",
    "\n",
    "# Tính bảo hiểm xã hội\n",
    "calculate_bhxh = lambda lcb=0: min(lcb, L_CS * HS_BH_MAX) * PT_BHXH / 100  # mức lương đóng BHXH tối đa bằng 20 lần mức LCS\n",
    "\n",
    "# Tính bảo hiểm y tế\n",
    "calculate_bhyt = lambda lcb=0: min(lcb, L_CS * HS_BH_MAX) * PT_BHYT / 100 # mức lương đóng BHYT tối đa bằng 20 lần mức LCS\n",
    "\n",
    "# Tính bảo hiểm thất nghiệp\n",
    "calculate_bhtn = lambda lcb=0: min(lcb, L_TTV * HS_BH_MAX) * PT_BHTN / 100  # mức lương đóng BHTN tối đa bằng 20 lần mức LTTV\n",
    "\n",
    "# Tính bảo hiểm\n",
    "calculate_bh = lambda lcb=0: calculate_bhxh(lcb) + calculate_bhyt(lcb) + calculate_bhtn(lcb)  # gói đóng BH gồm có BHXH, BHYT & BHTN\n",
    "\n",
    "# Tính lương NET\n",
    "calculate_lnet = lambda lcb=0: lcb - calculate_bh(lcb)  # lương NET là lương cơ bản (LCB) sau khi đóng BH\n",
    "\n",
    "# Tính lương thực tế\n",
    "calculate_ltt = lambda lcb=0, pc=0: calculate_lnet(lcb) + pc  # lương thực tế là lương NET được tính thêm các khoản phụ cấp\n",
    "\n",
    "# Tra bậc thuế\n",
    "def lookup_bt(ltt=0):\n",
    "    if ltt > GT_TTNCN:\n",
    "        tntt = ltt - GT_TTNCN  # thu nhập tính thuế (TNTT) là số dư của lương thực tế (LTT) so với mức giảm trừ TTNCN\n",
    "        for i in range(len(BTS)):\n",
    "            bacThue = BTS[i]\n",
    "            if bacThue[IDX_BT_LOW] <= tntt < bacThue[IDX_BT_HIGH]:\n",
    "                return bacThue[IDX_BT_NAME]\n",
    "    else:\n",
    "        return BacThue.Bac0\n",
    "    \n",
    "# Tính thuế thu nhập cá nhân\n",
    "def calculate_ttncn(ltt=0):\n",
    "    btDic = BT_DICTS[lookup_bt(ltt)]\n",
    "    return (ltt - GT_TTNCN) * btDic[IDX_TS] / 100 - btDic[IDX_HSG]  # TTNCN chỉ đánh trên (TNTT)\n",
    "\n",
    "# Tính lương thực nhận\n",
    "calculate_ltn = lambda ltt=0: ltt - calculate_ttncn(ltt)  # lương sau thuế (LST) bằng lương thực nhận (LTN)\n",
    "\n",
    "# String exercise 3\n",
    "def str_exercise_3():\n",
    "    str = 'BÀI 3\\n'\n",
    "    n = random.randint(1, 9)\n",
    "    nhanViens = []\n",
    "    # initialize each element in the range\n",
    "    for _ in range(n):\n",
    "        lcb = random.uniform(0, 100000000)\n",
    "        pc = random.uniform(0, 10000000)\n",
    "        nhanVien = NhanVien(lcb, pc)\n",
    "        nhanViens.append(nhanVien)\n",
    "        nhanVien.set_ltn(calculate_ltn(calculate_ltt(lcb, pc)))\n",
    "    # calculate salary for each element in the range\n",
    "    for i in range(len(nhanViens)):\n",
    "        str += f'''- Nhân viên {i + 1}:\n",
    "    + Lương cơ bản: {\"{:,}\".format(nhanViens[i].lcb)}\n",
    "    + Phụ cấp: {\"{:,}\".format(nhanViens[i].pc)}\n",
    "    + Lương thực nhận: {\"{:,}\".format(nhanViens[i].ltn)}\n",
    "'''\n",
    "    return str"
   ]
  },
  {
   "cell_type": "markdown",
   "metadata": {},
   "source": [
    "### Common"
   ]
  },
  {
   "cell_type": "code",
   "execution_count": 5,
   "metadata": {},
   "outputs": [],
   "source": [
    "# Main\n",
    "def main():\n",
    "    text_content = f'''{str_exercise_1()}\n",
    "{str_exercise_2()}\n",
    "{str_exercise_3()}'''\n",
    "    with open('DA08_BaiTap2_An.txt', 'w', encoding='utf-8') as f:\n",
    "        f.write(text_content)"
   ]
  },
  {
   "cell_type": "code",
   "execution_count": 6,
   "metadata": {},
   "outputs": [
    {
     "name": "stdout",
     "output_type": "stream",
     "text": [
      "BÀI 1\n",
      "- Ngày 2: Mua\n",
      "- Ngày 3: Bán\n",
      "- Ngày 4: Giữ nguyên\n",
      "- Ngày 5: Giữ nguyên\n",
      "- Ngày 6: Mua\n",
      "- Ngày 7: Giữ nguyên\n",
      "- Ngày 8: Mua\n",
      "\n",
      "BÀI 2\n",
      "- 70: không là số nguyên tố.\n",
      "- 94: không là số nguyên tố.\n",
      "- 63: không là số nguyên tố.\n",
      "- 31: là số nguyên tố.\n",
      "- 84: không là số nguyên tố.\n",
      "- 26: không là số nguyên tố.\n",
      "- 32: không là số nguyên tố.\n",
      "\n",
      "BÀI 3\n",
      "- Nhân viên 1:\n",
      "    + Lương cơ bản: 23,513,678.66698899\n",
      "    + Phụ cấp: 5,165,287.493497146\n",
      "    + Lương thực nhận: 24,678,525.41538445\n",
      "- Nhân viên 2:\n",
      "    + Lương cơ bản: 93,191,927.35692693\n",
      "    + Phụ cấp: 5,226,423.614827681\n",
      "    + Lương thực nhận: 74,843,180.60382047\n",
      "- Nhân viên 3:\n",
      "    + Lương cơ bản: 89,520,650.33252075\n",
      "    + Phụ cấp: 7,743,931.23852613\n",
      "    + Lương thực nhận: 74,117,093.79401909\n",
      "- Nhân viên 4:\n",
      "    + Lương cơ bản: 77,790,739.9735606\n",
      "    + Phụ cấp: 6,397,194.471954695\n",
      "    + Lương thực nhận: 65,143,018.93204579\n",
      "- Nhân viên 5:\n",
      "    + Lương cơ bản: 7,819,883.3575880425\n",
      "    + Phụ cấp: 74,894.74486024106\n",
      "    + Lương thực nhận: 7,073,690.349901539\n",
      "- Nhân viên 6:\n",
      "    + Lương cơ bản: 79,001,338.6788201\n",
      "    + Phụ cấp: 1,948,219.4336839486\n",
      "    + Lương thực nhận: 62,867,681.30800109\n",
      "- Nhân viên 7:\n",
      "    + Lương cơ bản: 72,937,841.09989205\n",
      "    + Phụ cấp: 4,678,043.0884189615\n",
      "    + Lương thực nhận: 60,576,554.044118464\n"
     ]
    }
   ],
   "source": [
    "# Run\n",
    "main()\n",
    "with open('DA08_BaiTap2_An.txt', 'r', encoding='utf-8') as f:\n",
    "    for line in f:\n",
    "        print(line.rstrip())"
   ]
  }
 ],
 "metadata": {
  "kernelspec": {
   "display_name": "Python 3 (ipykernel)",
   "language": "python",
   "name": "python3"
  },
  "language_info": {
   "codemirror_mode": {
    "name": "ipython",
    "version": 3
   },
   "file_extension": ".py",
   "mimetype": "text/x-python",
   "name": "python",
   "nbconvert_exporter": "python",
   "pygments_lexer": "ipython3",
   "version": "3.9.13"
  },
  "vscode": {
   "interpreter": {
    "hash": "bb31923fe1462919371239128cb0b2695295dfc560fc452d1a3a2e251a4b53eb"
   }
  }
 },
 "nbformat": 4,
 "nbformat_minor": 2
}
